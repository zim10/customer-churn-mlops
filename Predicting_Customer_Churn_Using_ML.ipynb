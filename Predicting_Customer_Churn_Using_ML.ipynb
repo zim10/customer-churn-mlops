{
  "nbformat": 4,
  "nbformat_minor": 0,
  "metadata": {
    "colab": {
      "name": "Predicting Customer Churn_Using_ML.ipynb",
      "provenance": [],
      "authorship_tag": "ABX9TyOIQK6JKk5NlSICa4P3pvQX"
    },
    "kernelspec": {
      "name": "python3",
      "display_name": "Python 3"
    },
    "language_info": {
      "name": "python"
    }
  },
  "cells": [
    {
      "cell_type": "markdown",
      "metadata": {
        "id": "tb7dzdoV3Etd"
      },
      "source": [
        "### **Project Name: Predicting Customer Churn Using ML**\n",
        "In this Notebook, my aim is to build a model that uses the information about each customer in the dataset to classify whether or not a new customer will churn. Here model has two outcomes or classes: either  customer will churn or not churn.\n",
        "'Yes'- customer will churn\n",
        "'no'- customer will not churn\n",
        "\n",
        "**-By Md. Azim Khan**"
      ]
    },
    {
      "cell_type": "markdown",
      "metadata": {
        "id": "pVw2G6vYUsrd"
      },
      "source": [
        "**Customer churn:**\n",
        "It is when an existing customer, user, player, subscriber or any kind of return client stops doing business or ends the relationship with a company."
      ]
    },
    {
      "cell_type": "markdown",
      "metadata": {
        "id": "n2H68axF2O2p"
      },
      "source": [
        "**Importing Libraries**"
      ]
    },
    {
      "cell_type": "code",
      "metadata": {
        "id": "drnf_aIg2Q1A"
      },
      "source": [
        "import pandas as pd\n",
        "import numpy as np\n",
        "import matplotlib.pyplot as plt\n",
        "pd.options.display.max_columns = 100\n",
        "pd.options.display.max_rows = 100\n",
        "from sklearn.model_selection import train_test_split\n",
        "from sklearn.tree import DecisionTreeClassifier\n",
        "from sklearn.tree import plot_tree\n",
        "from sklearn.metrics import accuracy_score, classification_report, confusion_matrix\n",
        "from sklearn.metrics import roc_curve, roc_auc_score, precision_score, recall_score, f1_score\n",
        "from sklearn.metrics import plot_confusion_matrix\n",
        "# to remove unnecessary warnings\n",
        "import warnings\n",
        "warnings.filterwarnings('ignore')"
      ],
      "execution_count": 112,
      "outputs": []
    },
    {
      "cell_type": "markdown",
      "metadata": {
        "id": "UrWR56Wi2odh"
      },
      "source": [
        "**Import Data**"
      ]
    },
    {
      "cell_type": "code",
      "metadata": {
        "id": "xPZnWk8u5D6Y"
      },
      "source": [
        "url = 'https://raw.githubusercontent.com/SKawsar/machine_learning_with_python/main/Churn.csv'\n",
        "df = pd.read_csv(url)"
      ],
      "execution_count": 113,
      "outputs": []
    },
    {
      "cell_type": "code",
      "metadata": {
        "colab": {
          "base_uri": "https://localhost:8080/",
          "height": 330
        },
        "id": "H1qpL9j7uOdn",
        "outputId": "00f3545a-59ef-4ef4-b9ba-b2d28aac4443"
      },
      "source": [
        "# show some observation from dataset\n",
        "display(df.head(5))\n",
        "display(df.shape)"
      ],
      "execution_count": 114,
      "outputs": [
        {
          "output_type": "display_data",
          "data": {
            "text/html": [
              "<div>\n",
              "<style scoped>\n",
              "    .dataframe tbody tr th:only-of-type {\n",
              "        vertical-align: middle;\n",
              "    }\n",
              "\n",
              "    .dataframe tbody tr th {\n",
              "        vertical-align: top;\n",
              "    }\n",
              "\n",
              "    .dataframe thead th {\n",
              "        text-align: right;\n",
              "    }\n",
              "</style>\n",
              "<table border=\"1\" class=\"dataframe\">\n",
              "  <thead>\n",
              "    <tr style=\"text-align: right;\">\n",
              "      <th></th>\n",
              "      <th>Account_Length</th>\n",
              "      <th>Vmail_Message</th>\n",
              "      <th>Day_Mins</th>\n",
              "      <th>Eve_Mins</th>\n",
              "      <th>Night_Mins</th>\n",
              "      <th>Intl_Mins</th>\n",
              "      <th>CustServ_Calls</th>\n",
              "      <th>Churn</th>\n",
              "      <th>Intl_Plan</th>\n",
              "      <th>Vmail_Plan</th>\n",
              "      <th>Day_Calls</th>\n",
              "      <th>Day_Charge</th>\n",
              "      <th>Eve_Calls</th>\n",
              "      <th>Eve_Charge</th>\n",
              "      <th>Night_Calls</th>\n",
              "      <th>Night_Charge</th>\n",
              "      <th>Intl_Calls</th>\n",
              "      <th>Intl_Charge</th>\n",
              "      <th>State</th>\n",
              "      <th>Area_Code</th>\n",
              "      <th>Phone</th>\n",
              "    </tr>\n",
              "  </thead>\n",
              "  <tbody>\n",
              "    <tr>\n",
              "      <th>0</th>\n",
              "      <td>128</td>\n",
              "      <td>25</td>\n",
              "      <td>265.1</td>\n",
              "      <td>197.4</td>\n",
              "      <td>244.7</td>\n",
              "      <td>10.0</td>\n",
              "      <td>1</td>\n",
              "      <td>no</td>\n",
              "      <td>no</td>\n",
              "      <td>yes</td>\n",
              "      <td>110</td>\n",
              "      <td>45.07</td>\n",
              "      <td>99</td>\n",
              "      <td>16.78</td>\n",
              "      <td>91</td>\n",
              "      <td>11.01</td>\n",
              "      <td>3</td>\n",
              "      <td>2.70</td>\n",
              "      <td>KS</td>\n",
              "      <td>415</td>\n",
              "      <td>382-4657</td>\n",
              "    </tr>\n",
              "    <tr>\n",
              "      <th>1</th>\n",
              "      <td>107</td>\n",
              "      <td>26</td>\n",
              "      <td>161.6</td>\n",
              "      <td>195.5</td>\n",
              "      <td>254.4</td>\n",
              "      <td>13.7</td>\n",
              "      <td>1</td>\n",
              "      <td>no</td>\n",
              "      <td>no</td>\n",
              "      <td>yes</td>\n",
              "      <td>123</td>\n",
              "      <td>27.47</td>\n",
              "      <td>103</td>\n",
              "      <td>16.62</td>\n",
              "      <td>103</td>\n",
              "      <td>11.45</td>\n",
              "      <td>3</td>\n",
              "      <td>3.70</td>\n",
              "      <td>OH</td>\n",
              "      <td>415</td>\n",
              "      <td>371-7191</td>\n",
              "    </tr>\n",
              "    <tr>\n",
              "      <th>2</th>\n",
              "      <td>137</td>\n",
              "      <td>0</td>\n",
              "      <td>243.4</td>\n",
              "      <td>121.2</td>\n",
              "      <td>162.6</td>\n",
              "      <td>12.2</td>\n",
              "      <td>0</td>\n",
              "      <td>no</td>\n",
              "      <td>no</td>\n",
              "      <td>no</td>\n",
              "      <td>114</td>\n",
              "      <td>41.38</td>\n",
              "      <td>110</td>\n",
              "      <td>10.30</td>\n",
              "      <td>104</td>\n",
              "      <td>7.32</td>\n",
              "      <td>5</td>\n",
              "      <td>3.29</td>\n",
              "      <td>NJ</td>\n",
              "      <td>415</td>\n",
              "      <td>358-1921</td>\n",
              "    </tr>\n",
              "    <tr>\n",
              "      <th>3</th>\n",
              "      <td>84</td>\n",
              "      <td>0</td>\n",
              "      <td>299.4</td>\n",
              "      <td>61.9</td>\n",
              "      <td>196.9</td>\n",
              "      <td>6.6</td>\n",
              "      <td>2</td>\n",
              "      <td>no</td>\n",
              "      <td>yes</td>\n",
              "      <td>no</td>\n",
              "      <td>71</td>\n",
              "      <td>50.90</td>\n",
              "      <td>88</td>\n",
              "      <td>5.26</td>\n",
              "      <td>89</td>\n",
              "      <td>8.86</td>\n",
              "      <td>7</td>\n",
              "      <td>1.78</td>\n",
              "      <td>OH</td>\n",
              "      <td>408</td>\n",
              "      <td>375-9999</td>\n",
              "    </tr>\n",
              "    <tr>\n",
              "      <th>4</th>\n",
              "      <td>75</td>\n",
              "      <td>0</td>\n",
              "      <td>166.7</td>\n",
              "      <td>148.3</td>\n",
              "      <td>186.9</td>\n",
              "      <td>10.1</td>\n",
              "      <td>3</td>\n",
              "      <td>no</td>\n",
              "      <td>yes</td>\n",
              "      <td>no</td>\n",
              "      <td>113</td>\n",
              "      <td>28.34</td>\n",
              "      <td>122</td>\n",
              "      <td>12.61</td>\n",
              "      <td>121</td>\n",
              "      <td>8.41</td>\n",
              "      <td>3</td>\n",
              "      <td>2.73</td>\n",
              "      <td>OK</td>\n",
              "      <td>415</td>\n",
              "      <td>330-6626</td>\n",
              "    </tr>\n",
              "  </tbody>\n",
              "</table>\n",
              "</div>"
            ],
            "text/plain": [
              "   Account_Length  Vmail_Message  Day_Mins  Eve_Mins  Night_Mins  Intl_Mins  \\\n",
              "0             128             25     265.1     197.4       244.7       10.0   \n",
              "1             107             26     161.6     195.5       254.4       13.7   \n",
              "2             137              0     243.4     121.2       162.6       12.2   \n",
              "3              84              0     299.4      61.9       196.9        6.6   \n",
              "4              75              0     166.7     148.3       186.9       10.1   \n",
              "\n",
              "   CustServ_Calls Churn Intl_Plan Vmail_Plan  Day_Calls  Day_Charge  \\\n",
              "0               1    no        no        yes        110       45.07   \n",
              "1               1    no        no        yes        123       27.47   \n",
              "2               0    no        no         no        114       41.38   \n",
              "3               2    no       yes         no         71       50.90   \n",
              "4               3    no       yes         no        113       28.34   \n",
              "\n",
              "   Eve_Calls  Eve_Charge  Night_Calls  Night_Charge  Intl_Calls  Intl_Charge  \\\n",
              "0         99       16.78           91         11.01           3         2.70   \n",
              "1        103       16.62          103         11.45           3         3.70   \n",
              "2        110       10.30          104          7.32           5         3.29   \n",
              "3         88        5.26           89          8.86           7         1.78   \n",
              "4        122       12.61          121          8.41           3         2.73   \n",
              "\n",
              "  State  Area_Code     Phone  \n",
              "0    KS        415  382-4657  \n",
              "1    OH        415  371-7191  \n",
              "2    NJ        415  358-1921  \n",
              "3    OH        408  375-9999  \n",
              "4    OK        415  330-6626  "
            ]
          },
          "metadata": {}
        },
        {
          "output_type": "display_data",
          "data": {
            "text/plain": [
              "(3333, 21)"
            ]
          },
          "metadata": {}
        }
      ]
    },
    {
      "cell_type": "code",
      "metadata": {
        "colab": {
          "base_uri": "https://localhost:8080/"
        },
        "id": "RGd3vekY3kk4",
        "outputId": "c3719a65-2351-4a68-a573-8129df3bad65"
      },
      "source": [
        "# columns name\n",
        "print(df.columns)"
      ],
      "execution_count": 115,
      "outputs": [
        {
          "output_type": "stream",
          "name": "stdout",
          "text": [
            "Index(['Account_Length', 'Vmail_Message', 'Day_Mins', 'Eve_Mins', 'Night_Mins',\n",
            "       'Intl_Mins', 'CustServ_Calls', 'Churn', 'Intl_Plan', 'Vmail_Plan',\n",
            "       'Day_Calls', 'Day_Charge', 'Eve_Calls', 'Eve_Charge', 'Night_Calls',\n",
            "       'Night_Charge', 'Intl_Calls', 'Intl_Charge', 'State', 'Area_Code',\n",
            "       'Phone'],\n",
            "      dtype='object')\n"
          ]
        }
      ]
    },
    {
      "cell_type": "markdown",
      "metadata": {
        "id": "r8iV-1PK6-A3"
      },
      "source": [
        "**Explaination of each feature and Target variable:**\n",
        "1. **CustServ_Calls** which denotes the number of customer service calls the customer made\n",
        "2.**State** which indicates the state the customer is from.\n",
        "3. '**Churn**' indicate whether or not the customer has churned.\n",
        "\n",
        "('Vmail_Message','Day_Mins', 'Eve_Mins', 'Night_Mins','Intl_Mins',  'Intl_Plan', 'Vmail_Plan','Day_Calls', 'Day_Charge', 'Eve_Calls', 'Eve_Charge', 'Night_Calls','Night_Charge', 'Intl_Calls', 'Intl_Charge') all indicates a customer record of voice mail and international calling, cost for the service and a customar's usage information."
      ]
    },
    {
      "cell_type": "code",
      "metadata": {
        "colab": {
          "base_uri": "https://localhost:8080/"
        },
        "id": "BxwVN-4U6DUe",
        "outputId": "e1620f20-5b22-4234-8993-e413cd4e02f9"
      },
      "source": [
        "# check for missing values, data types of the columns\n",
        "df.info()"
      ],
      "execution_count": 116,
      "outputs": [
        {
          "output_type": "stream",
          "name": "stdout",
          "text": [
            "<class 'pandas.core.frame.DataFrame'>\n",
            "RangeIndex: 3333 entries, 0 to 3332\n",
            "Data columns (total 21 columns):\n",
            " #   Column          Non-Null Count  Dtype  \n",
            "---  ------          --------------  -----  \n",
            " 0   Account_Length  3333 non-null   int64  \n",
            " 1   Vmail_Message   3333 non-null   int64  \n",
            " 2   Day_Mins        3333 non-null   float64\n",
            " 3   Eve_Mins        3333 non-null   float64\n",
            " 4   Night_Mins      3333 non-null   float64\n",
            " 5   Intl_Mins       3333 non-null   float64\n",
            " 6   CustServ_Calls  3333 non-null   int64  \n",
            " 7   Churn           3333 non-null   object \n",
            " 8   Intl_Plan       3333 non-null   object \n",
            " 9   Vmail_Plan      3333 non-null   object \n",
            " 10  Day_Calls       3333 non-null   int64  \n",
            " 11  Day_Charge      3333 non-null   float64\n",
            " 12  Eve_Calls       3333 non-null   int64  \n",
            " 13  Eve_Charge      3333 non-null   float64\n",
            " 14  Night_Calls     3333 non-null   int64  \n",
            " 15  Night_Charge    3333 non-null   float64\n",
            " 16  Intl_Calls      3333 non-null   int64  \n",
            " 17  Intl_Charge     3333 non-null   float64\n",
            " 18  State           3333 non-null   object \n",
            " 19  Area_Code       3333 non-null   int64  \n",
            " 20  Phone           3333 non-null   object \n",
            "dtypes: float64(8), int64(8), object(5)\n",
            "memory usage: 546.9+ KB\n"
          ]
        }
      ]
    },
    {
      "cell_type": "markdown",
      "metadata": {
        "id": "FM8cD3Pv4JDI"
      },
      "source": [
        "**Comment:**\n",
        "* There is no missing value in the dataset\n",
        "* Number of observations (rows) = 3333\n",
        "* Number of columns = 21 (20 feature variables and 1 target variable)"
      ]
    },
    {
      "cell_type": "code",
      "metadata": {
        "colab": {
          "base_uri": "https://localhost:8080/",
          "height": 319
        },
        "id": "wauoJpVR5ciL",
        "outputId": "b002f9c7-517b-4807-ef80-431dc5398b89"
      },
      "source": [
        "#statistics of the numerical variables\n",
        "df.describe()"
      ],
      "execution_count": 117,
      "outputs": [
        {
          "output_type": "execute_result",
          "data": {
            "text/html": [
              "<div>\n",
              "<style scoped>\n",
              "    .dataframe tbody tr th:only-of-type {\n",
              "        vertical-align: middle;\n",
              "    }\n",
              "\n",
              "    .dataframe tbody tr th {\n",
              "        vertical-align: top;\n",
              "    }\n",
              "\n",
              "    .dataframe thead th {\n",
              "        text-align: right;\n",
              "    }\n",
              "</style>\n",
              "<table border=\"1\" class=\"dataframe\">\n",
              "  <thead>\n",
              "    <tr style=\"text-align: right;\">\n",
              "      <th></th>\n",
              "      <th>Account_Length</th>\n",
              "      <th>Vmail_Message</th>\n",
              "      <th>Day_Mins</th>\n",
              "      <th>Eve_Mins</th>\n",
              "      <th>Night_Mins</th>\n",
              "      <th>Intl_Mins</th>\n",
              "      <th>CustServ_Calls</th>\n",
              "      <th>Day_Calls</th>\n",
              "      <th>Day_Charge</th>\n",
              "      <th>Eve_Calls</th>\n",
              "      <th>Eve_Charge</th>\n",
              "      <th>Night_Calls</th>\n",
              "      <th>Night_Charge</th>\n",
              "      <th>Intl_Calls</th>\n",
              "      <th>Intl_Charge</th>\n",
              "      <th>Area_Code</th>\n",
              "    </tr>\n",
              "  </thead>\n",
              "  <tbody>\n",
              "    <tr>\n",
              "      <th>count</th>\n",
              "      <td>3333.000000</td>\n",
              "      <td>3333.000000</td>\n",
              "      <td>3333.000000</td>\n",
              "      <td>3333.000000</td>\n",
              "      <td>3333.000000</td>\n",
              "      <td>3333.000000</td>\n",
              "      <td>3333.000000</td>\n",
              "      <td>3333.000000</td>\n",
              "      <td>3333.000000</td>\n",
              "      <td>3333.000000</td>\n",
              "      <td>3333.000000</td>\n",
              "      <td>3333.000000</td>\n",
              "      <td>3333.000000</td>\n",
              "      <td>3333.000000</td>\n",
              "      <td>3333.000000</td>\n",
              "      <td>3333.000000</td>\n",
              "    </tr>\n",
              "    <tr>\n",
              "      <th>mean</th>\n",
              "      <td>101.064806</td>\n",
              "      <td>8.099010</td>\n",
              "      <td>179.775098</td>\n",
              "      <td>200.980348</td>\n",
              "      <td>200.872037</td>\n",
              "      <td>10.237294</td>\n",
              "      <td>1.562856</td>\n",
              "      <td>100.435644</td>\n",
              "      <td>30.562307</td>\n",
              "      <td>100.114311</td>\n",
              "      <td>17.083540</td>\n",
              "      <td>100.107711</td>\n",
              "      <td>9.039325</td>\n",
              "      <td>4.479448</td>\n",
              "      <td>2.764581</td>\n",
              "      <td>437.182418</td>\n",
              "    </tr>\n",
              "    <tr>\n",
              "      <th>std</th>\n",
              "      <td>39.822106</td>\n",
              "      <td>13.688365</td>\n",
              "      <td>54.467389</td>\n",
              "      <td>50.713844</td>\n",
              "      <td>50.573847</td>\n",
              "      <td>2.791840</td>\n",
              "      <td>1.315491</td>\n",
              "      <td>20.069084</td>\n",
              "      <td>9.259435</td>\n",
              "      <td>19.922625</td>\n",
              "      <td>4.310668</td>\n",
              "      <td>19.568609</td>\n",
              "      <td>2.275873</td>\n",
              "      <td>2.461214</td>\n",
              "      <td>0.753773</td>\n",
              "      <td>42.371290</td>\n",
              "    </tr>\n",
              "    <tr>\n",
              "      <th>min</th>\n",
              "      <td>1.000000</td>\n",
              "      <td>0.000000</td>\n",
              "      <td>0.000000</td>\n",
              "      <td>0.000000</td>\n",
              "      <td>23.200000</td>\n",
              "      <td>0.000000</td>\n",
              "      <td>0.000000</td>\n",
              "      <td>0.000000</td>\n",
              "      <td>0.000000</td>\n",
              "      <td>0.000000</td>\n",
              "      <td>0.000000</td>\n",
              "      <td>33.000000</td>\n",
              "      <td>1.040000</td>\n",
              "      <td>0.000000</td>\n",
              "      <td>0.000000</td>\n",
              "      <td>408.000000</td>\n",
              "    </tr>\n",
              "    <tr>\n",
              "      <th>25%</th>\n",
              "      <td>74.000000</td>\n",
              "      <td>0.000000</td>\n",
              "      <td>143.700000</td>\n",
              "      <td>166.600000</td>\n",
              "      <td>167.000000</td>\n",
              "      <td>8.500000</td>\n",
              "      <td>1.000000</td>\n",
              "      <td>87.000000</td>\n",
              "      <td>24.430000</td>\n",
              "      <td>87.000000</td>\n",
              "      <td>14.160000</td>\n",
              "      <td>87.000000</td>\n",
              "      <td>7.520000</td>\n",
              "      <td>3.000000</td>\n",
              "      <td>2.300000</td>\n",
              "      <td>408.000000</td>\n",
              "    </tr>\n",
              "    <tr>\n",
              "      <th>50%</th>\n",
              "      <td>101.000000</td>\n",
              "      <td>0.000000</td>\n",
              "      <td>179.400000</td>\n",
              "      <td>201.400000</td>\n",
              "      <td>201.200000</td>\n",
              "      <td>10.300000</td>\n",
              "      <td>1.000000</td>\n",
              "      <td>101.000000</td>\n",
              "      <td>30.500000</td>\n",
              "      <td>100.000000</td>\n",
              "      <td>17.120000</td>\n",
              "      <td>100.000000</td>\n",
              "      <td>9.050000</td>\n",
              "      <td>4.000000</td>\n",
              "      <td>2.780000</td>\n",
              "      <td>415.000000</td>\n",
              "    </tr>\n",
              "    <tr>\n",
              "      <th>75%</th>\n",
              "      <td>127.000000</td>\n",
              "      <td>20.000000</td>\n",
              "      <td>216.400000</td>\n",
              "      <td>235.300000</td>\n",
              "      <td>235.300000</td>\n",
              "      <td>12.100000</td>\n",
              "      <td>2.000000</td>\n",
              "      <td>114.000000</td>\n",
              "      <td>36.790000</td>\n",
              "      <td>114.000000</td>\n",
              "      <td>20.000000</td>\n",
              "      <td>113.000000</td>\n",
              "      <td>10.590000</td>\n",
              "      <td>6.000000</td>\n",
              "      <td>3.270000</td>\n",
              "      <td>510.000000</td>\n",
              "    </tr>\n",
              "    <tr>\n",
              "      <th>max</th>\n",
              "      <td>243.000000</td>\n",
              "      <td>51.000000</td>\n",
              "      <td>350.800000</td>\n",
              "      <td>363.700000</td>\n",
              "      <td>395.000000</td>\n",
              "      <td>20.000000</td>\n",
              "      <td>9.000000</td>\n",
              "      <td>165.000000</td>\n",
              "      <td>59.640000</td>\n",
              "      <td>170.000000</td>\n",
              "      <td>30.910000</td>\n",
              "      <td>175.000000</td>\n",
              "      <td>17.770000</td>\n",
              "      <td>20.000000</td>\n",
              "      <td>5.400000</td>\n",
              "      <td>510.000000</td>\n",
              "    </tr>\n",
              "  </tbody>\n",
              "</table>\n",
              "</div>"
            ],
            "text/plain": [
              "       Account_Length  Vmail_Message     Day_Mins     Eve_Mins   Night_Mins  \\\n",
              "count     3333.000000    3333.000000  3333.000000  3333.000000  3333.000000   \n",
              "mean       101.064806       8.099010   179.775098   200.980348   200.872037   \n",
              "std         39.822106      13.688365    54.467389    50.713844    50.573847   \n",
              "min          1.000000       0.000000     0.000000     0.000000    23.200000   \n",
              "25%         74.000000       0.000000   143.700000   166.600000   167.000000   \n",
              "50%        101.000000       0.000000   179.400000   201.400000   201.200000   \n",
              "75%        127.000000      20.000000   216.400000   235.300000   235.300000   \n",
              "max        243.000000      51.000000   350.800000   363.700000   395.000000   \n",
              "\n",
              "         Intl_Mins  CustServ_Calls    Day_Calls   Day_Charge    Eve_Calls  \\\n",
              "count  3333.000000     3333.000000  3333.000000  3333.000000  3333.000000   \n",
              "mean     10.237294        1.562856   100.435644    30.562307   100.114311   \n",
              "std       2.791840        1.315491    20.069084     9.259435    19.922625   \n",
              "min       0.000000        0.000000     0.000000     0.000000     0.000000   \n",
              "25%       8.500000        1.000000    87.000000    24.430000    87.000000   \n",
              "50%      10.300000        1.000000   101.000000    30.500000   100.000000   \n",
              "75%      12.100000        2.000000   114.000000    36.790000   114.000000   \n",
              "max      20.000000        9.000000   165.000000    59.640000   170.000000   \n",
              "\n",
              "        Eve_Charge  Night_Calls  Night_Charge   Intl_Calls  Intl_Charge  \\\n",
              "count  3333.000000  3333.000000   3333.000000  3333.000000  3333.000000   \n",
              "mean     17.083540   100.107711      9.039325     4.479448     2.764581   \n",
              "std       4.310668    19.568609      2.275873     2.461214     0.753773   \n",
              "min       0.000000    33.000000      1.040000     0.000000     0.000000   \n",
              "25%      14.160000    87.000000      7.520000     3.000000     2.300000   \n",
              "50%      17.120000   100.000000      9.050000     4.000000     2.780000   \n",
              "75%      20.000000   113.000000     10.590000     6.000000     3.270000   \n",
              "max      30.910000   175.000000     17.770000    20.000000     5.400000   \n",
              "\n",
              "         Area_Code  \n",
              "count  3333.000000  \n",
              "mean    437.182418  \n",
              "std      42.371290  \n",
              "min     408.000000  \n",
              "25%     408.000000  \n",
              "50%     415.000000  \n",
              "75%     510.000000  \n",
              "max     510.000000  "
            ]
          },
          "metadata": {},
          "execution_count": 117
        }
      ]
    },
    {
      "cell_type": "markdown",
      "metadata": {
        "id": "iuF2ZhZi5N74"
      },
      "source": [
        "**Comment:**\n",
        "1. Customer call service center aveage 1.56\n",
        "2. Evening Charge is the highest (30.91$) than other time (day charge and night charge\n",
        "3. Customer uses highest night time calls and it is 175"
      ]
    },
    {
      "cell_type": "markdown",
      "metadata": {
        "id": "77bZuYbM8K8W"
      },
      "source": [
        "**Question:** How many churners does the dataset have, and how many non-churners?"
      ]
    },
    {
      "cell_type": "code",
      "metadata": {
        "colab": {
          "base_uri": "https://localhost:8080/"
        },
        "id": "bx92-vQ06NJn",
        "outputId": "7746b898-3b9f-4ee0-a5ac-9827376ef7e2"
      },
      "source": [
        "# target value distribution\n",
        "df.Churn.value_counts()"
      ],
      "execution_count": 118,
      "outputs": [
        {
          "output_type": "execute_result",
          "data": {
            "text/plain": [
              "no     2850\n",
              "yes     483\n",
              "Name: Churn, dtype: int64"
            ]
          },
          "metadata": {},
          "execution_count": 118
        }
      ]
    },
    {
      "cell_type": "markdown",
      "metadata": {
        "id": "3hauFVyn8S51"
      },
      "source": [
        "**Comment:** 483 Churners and 2850 Non-Churners. and Most of the customers did not churn"
      ]
    },
    {
      "cell_type": "markdown",
      "metadata": {
        "id": "dktgNJwfO_LR"
      },
      "source": [
        "**Data Preprocessing:**\n",
        "\n",
        "Data preprocesssing is important, because if the features in the dataset do not meet the following assumptions, then result of ML models wouldn't be reliable.\n",
        "* Features are normally distributed\n",
        "* Features are on the same scale\n",
        "\n",
        "**Steps to data preprocessing:**\n",
        "* **check Data types:** as Machine learning models require numeric data types. so need to encode categorical variables as numeric.\n",
        "\n",
        "* **Feature scaling:** Features should be on the same scale. By **Standardization** process we scale data. Standardization centers the distribution around the mean and calculates the number of standard deviations away from the mean each point is.\n",
        "* **Feature engineering:** Creating new features to help improve the model performance. It is need to consult with subject matter experts.\n",
        "Example: Total Minutes: sum of 'Day_Mins', 'Eve_Mins', 'Night_Mins', 'Intl_Mins'\n",
        "Here Total Minutes features can be made by summing  4 features.\n",
        "* **Feature selection:** means **dropping unnecessary features** from dataset because some features provide no predictive power. some example are\n",
        "1. **Unique identifiers.** Ex: Phone numbers, SSN, account number\n",
        "2. **Dropping highly correlated features:** they don't provide no additional info to the model"
      ]
    },
    {
      "cell_type": "markdown",
      "metadata": {
        "id": "ZY2incwgPeJC"
      },
      "source": [
        "**Data_types and Encoding**"
      ]
    },
    {
      "cell_type": "code",
      "metadata": {
        "colab": {
          "base_uri": "https://localhost:8080/"
        },
        "id": "mxQNAnfiTqM-",
        "outputId": "e4fcd83e-8286-4496-8155-ec5aee57dead"
      },
      "source": [
        "# Use dtypes attribute to check data types\n",
        "df.dtypes"
      ],
      "execution_count": 119,
      "outputs": [
        {
          "output_type": "execute_result",
          "data": {
            "text/plain": [
              "Account_Length      int64\n",
              "Vmail_Message       int64\n",
              "Day_Mins          float64\n",
              "Eve_Mins          float64\n",
              "Night_Mins        float64\n",
              "Intl_Mins         float64\n",
              "CustServ_Calls      int64\n",
              "Churn              object\n",
              "Intl_Plan          object\n",
              "Vmail_Plan         object\n",
              "Day_Calls           int64\n",
              "Day_Charge        float64\n",
              "Eve_Calls           int64\n",
              "Eve_Charge        float64\n",
              "Night_Calls         int64\n",
              "Night_Charge      float64\n",
              "Intl_Calls          int64\n",
              "Intl_Charge       float64\n",
              "State              object\n",
              "Area_Code           int64\n",
              "Phone              object\n",
              "dtype: object"
            ]
          },
          "metadata": {},
          "execution_count": 119
        }
      ]
    },
    {
      "cell_type": "markdown",
      "metadata": {
        "id": "jZ6NI-ZoTwlm"
      },
      "source": [
        "**Comment:** Churn, Vmail_Plan, and Intl_Plan, State in particular, are binary features that can easily be converted into 0s and 1s."
      ]
    },
    {
      "cell_type": "code",
      "metadata": {
        "id": "pUU6YpBCDVT7",
        "colab": {
          "base_uri": "https://localhost:8080/"
        },
        "outputId": "18a33578-3cdc-41c4-c9d8-3738a68172d7"
      },
      "source": [
        "# Encoding binary features Churn, Vmail_plan, Intl_plan\n",
        "# Replace 'no' with 0 and 'yes' with 1 in 'Vmail_Plan'\n",
        "df['Vmail_Plan'] = df['Vmail_Plan'].replace({'no':0, 'yes':1})\n",
        "\n",
        "# Replace 'no' with 0 and 'yes' with 1 in 'Churn'\n",
        "df['Churn'] = df['Churn'].replace({'no':0, 'yes':1})\n",
        "\n",
        "# Print the results to verify\n",
        "print(df['Vmail_Plan'].head())\n",
        "print(df['Churn'].sample(10))"
      ],
      "execution_count": 120,
      "outputs": [
        {
          "output_type": "stream",
          "name": "stdout",
          "text": [
            "0    1\n",
            "1    1\n",
            "2    0\n",
            "3    0\n",
            "4    0\n",
            "Name: Vmail_Plan, dtype: int64\n",
            "2452    0\n",
            "563     0\n",
            "1394    0\n",
            "2979    1\n",
            "1547    0\n",
            "2065    0\n",
            "1485    0\n",
            "2786    1\n",
            "144     1\n",
            "151     0\n",
            "Name: Churn, dtype: int64\n"
          ]
        }
      ]
    },
    {
      "cell_type": "code",
      "metadata": {
        "colab": {
          "base_uri": "https://localhost:8080/"
        },
        "id": "RlMdbgqGVprm",
        "outputId": "f6666538-a448-46c5-eb45-23b8ba057da0"
      },
      "source": [
        "# using LabelEncoder() recasting datatypes\n",
        "from sklearn.preprocessing import LabelEncoder\n",
        "\n",
        "df['Intl_Plan'] = LabelEncoder().fit_transform(df['Intl_Plan'])\n",
        "df['Intl_Plan'].head()"
      ],
      "execution_count": 121,
      "outputs": [
        {
          "output_type": "execute_result",
          "data": {
            "text/plain": [
              "0    0\n",
              "1    0\n",
              "2    0\n",
              "3    1\n",
              "4    1\n",
              "Name: Intl_Plan, dtype: int64"
            ]
          },
          "metadata": {},
          "execution_count": 121
        }
      ]
    },
    {
      "cell_type": "code",
      "metadata": {
        "colab": {
          "base_uri": "https://localhost:8080/"
        },
        "id": "ZgLhois_WlW0",
        "outputId": "7349bcef-41e0-4d19-ad7e-221dd99dbfcb"
      },
      "source": [
        "# total number of state in the dataset\n",
        "df.State.value_counts().shape"
      ],
      "execution_count": 122,
      "outputs": [
        {
          "output_type": "execute_result",
          "data": {
            "text/plain": [
              "(51,)"
            ]
          },
          "metadata": {},
          "execution_count": 122
        }
      ]
    },
    {
      "cell_type": "code",
      "metadata": {
        "colab": {
          "base_uri": "https://localhost:8080/",
          "height": 225
        },
        "id": "J_5b72qWWbjl",
        "outputId": "b49633f3-9ba1-4065-b5b2-b121c7e13236"
      },
      "source": [
        "# pandas has a get_dummies() function which automatically applies one hot encoding over the selected feature.\n",
        "# here level encoding is not performed because there are 51 state in the dataset, and we get 0 to 50 value for each state, \n",
        "# this value can make order the state and model will be give most important for highest number, less value for lowes number\n",
        "\n",
        "d = pd.get_dummies(df['State'])\n",
        "d.head()"
      ],
      "execution_count": 123,
      "outputs": [
        {
          "output_type": "execute_result",
          "data": {
            "text/html": [
              "<div>\n",
              "<style scoped>\n",
              "    .dataframe tbody tr th:only-of-type {\n",
              "        vertical-align: middle;\n",
              "    }\n",
              "\n",
              "    .dataframe tbody tr th {\n",
              "        vertical-align: top;\n",
              "    }\n",
              "\n",
              "    .dataframe thead th {\n",
              "        text-align: right;\n",
              "    }\n",
              "</style>\n",
              "<table border=\"1\" class=\"dataframe\">\n",
              "  <thead>\n",
              "    <tr style=\"text-align: right;\">\n",
              "      <th></th>\n",
              "      <th>AK</th>\n",
              "      <th>AL</th>\n",
              "      <th>AR</th>\n",
              "      <th>AZ</th>\n",
              "      <th>CA</th>\n",
              "      <th>CO</th>\n",
              "      <th>CT</th>\n",
              "      <th>DC</th>\n",
              "      <th>DE</th>\n",
              "      <th>FL</th>\n",
              "      <th>GA</th>\n",
              "      <th>HI</th>\n",
              "      <th>IA</th>\n",
              "      <th>ID</th>\n",
              "      <th>IL</th>\n",
              "      <th>IN</th>\n",
              "      <th>KS</th>\n",
              "      <th>KY</th>\n",
              "      <th>LA</th>\n",
              "      <th>MA</th>\n",
              "      <th>MD</th>\n",
              "      <th>ME</th>\n",
              "      <th>MI</th>\n",
              "      <th>MN</th>\n",
              "      <th>MO</th>\n",
              "      <th>MS</th>\n",
              "      <th>MT</th>\n",
              "      <th>NC</th>\n",
              "      <th>ND</th>\n",
              "      <th>NE</th>\n",
              "      <th>NH</th>\n",
              "      <th>NJ</th>\n",
              "      <th>NM</th>\n",
              "      <th>NV</th>\n",
              "      <th>NY</th>\n",
              "      <th>OH</th>\n",
              "      <th>OK</th>\n",
              "      <th>OR</th>\n",
              "      <th>PA</th>\n",
              "      <th>RI</th>\n",
              "      <th>SC</th>\n",
              "      <th>SD</th>\n",
              "      <th>TN</th>\n",
              "      <th>TX</th>\n",
              "      <th>UT</th>\n",
              "      <th>VA</th>\n",
              "      <th>VT</th>\n",
              "      <th>WA</th>\n",
              "      <th>WI</th>\n",
              "      <th>WV</th>\n",
              "      <th>WY</th>\n",
              "    </tr>\n",
              "  </thead>\n",
              "  <tbody>\n",
              "    <tr>\n",
              "      <th>0</th>\n",
              "      <td>0</td>\n",
              "      <td>0</td>\n",
              "      <td>0</td>\n",
              "      <td>0</td>\n",
              "      <td>0</td>\n",
              "      <td>0</td>\n",
              "      <td>0</td>\n",
              "      <td>0</td>\n",
              "      <td>0</td>\n",
              "      <td>0</td>\n",
              "      <td>0</td>\n",
              "      <td>0</td>\n",
              "      <td>0</td>\n",
              "      <td>0</td>\n",
              "      <td>0</td>\n",
              "      <td>0</td>\n",
              "      <td>1</td>\n",
              "      <td>0</td>\n",
              "      <td>0</td>\n",
              "      <td>0</td>\n",
              "      <td>0</td>\n",
              "      <td>0</td>\n",
              "      <td>0</td>\n",
              "      <td>0</td>\n",
              "      <td>0</td>\n",
              "      <td>0</td>\n",
              "      <td>0</td>\n",
              "      <td>0</td>\n",
              "      <td>0</td>\n",
              "      <td>0</td>\n",
              "      <td>0</td>\n",
              "      <td>0</td>\n",
              "      <td>0</td>\n",
              "      <td>0</td>\n",
              "      <td>0</td>\n",
              "      <td>0</td>\n",
              "      <td>0</td>\n",
              "      <td>0</td>\n",
              "      <td>0</td>\n",
              "      <td>0</td>\n",
              "      <td>0</td>\n",
              "      <td>0</td>\n",
              "      <td>0</td>\n",
              "      <td>0</td>\n",
              "      <td>0</td>\n",
              "      <td>0</td>\n",
              "      <td>0</td>\n",
              "      <td>0</td>\n",
              "      <td>0</td>\n",
              "      <td>0</td>\n",
              "      <td>0</td>\n",
              "    </tr>\n",
              "    <tr>\n",
              "      <th>1</th>\n",
              "      <td>0</td>\n",
              "      <td>0</td>\n",
              "      <td>0</td>\n",
              "      <td>0</td>\n",
              "      <td>0</td>\n",
              "      <td>0</td>\n",
              "      <td>0</td>\n",
              "      <td>0</td>\n",
              "      <td>0</td>\n",
              "      <td>0</td>\n",
              "      <td>0</td>\n",
              "      <td>0</td>\n",
              "      <td>0</td>\n",
              "      <td>0</td>\n",
              "      <td>0</td>\n",
              "      <td>0</td>\n",
              "      <td>0</td>\n",
              "      <td>0</td>\n",
              "      <td>0</td>\n",
              "      <td>0</td>\n",
              "      <td>0</td>\n",
              "      <td>0</td>\n",
              "      <td>0</td>\n",
              "      <td>0</td>\n",
              "      <td>0</td>\n",
              "      <td>0</td>\n",
              "      <td>0</td>\n",
              "      <td>0</td>\n",
              "      <td>0</td>\n",
              "      <td>0</td>\n",
              "      <td>0</td>\n",
              "      <td>0</td>\n",
              "      <td>0</td>\n",
              "      <td>0</td>\n",
              "      <td>0</td>\n",
              "      <td>1</td>\n",
              "      <td>0</td>\n",
              "      <td>0</td>\n",
              "      <td>0</td>\n",
              "      <td>0</td>\n",
              "      <td>0</td>\n",
              "      <td>0</td>\n",
              "      <td>0</td>\n",
              "      <td>0</td>\n",
              "      <td>0</td>\n",
              "      <td>0</td>\n",
              "      <td>0</td>\n",
              "      <td>0</td>\n",
              "      <td>0</td>\n",
              "      <td>0</td>\n",
              "      <td>0</td>\n",
              "    </tr>\n",
              "    <tr>\n",
              "      <th>2</th>\n",
              "      <td>0</td>\n",
              "      <td>0</td>\n",
              "      <td>0</td>\n",
              "      <td>0</td>\n",
              "      <td>0</td>\n",
              "      <td>0</td>\n",
              "      <td>0</td>\n",
              "      <td>0</td>\n",
              "      <td>0</td>\n",
              "      <td>0</td>\n",
              "      <td>0</td>\n",
              "      <td>0</td>\n",
              "      <td>0</td>\n",
              "      <td>0</td>\n",
              "      <td>0</td>\n",
              "      <td>0</td>\n",
              "      <td>0</td>\n",
              "      <td>0</td>\n",
              "      <td>0</td>\n",
              "      <td>0</td>\n",
              "      <td>0</td>\n",
              "      <td>0</td>\n",
              "      <td>0</td>\n",
              "      <td>0</td>\n",
              "      <td>0</td>\n",
              "      <td>0</td>\n",
              "      <td>0</td>\n",
              "      <td>0</td>\n",
              "      <td>0</td>\n",
              "      <td>0</td>\n",
              "      <td>0</td>\n",
              "      <td>1</td>\n",
              "      <td>0</td>\n",
              "      <td>0</td>\n",
              "      <td>0</td>\n",
              "      <td>0</td>\n",
              "      <td>0</td>\n",
              "      <td>0</td>\n",
              "      <td>0</td>\n",
              "      <td>0</td>\n",
              "      <td>0</td>\n",
              "      <td>0</td>\n",
              "      <td>0</td>\n",
              "      <td>0</td>\n",
              "      <td>0</td>\n",
              "      <td>0</td>\n",
              "      <td>0</td>\n",
              "      <td>0</td>\n",
              "      <td>0</td>\n",
              "      <td>0</td>\n",
              "      <td>0</td>\n",
              "    </tr>\n",
              "    <tr>\n",
              "      <th>3</th>\n",
              "      <td>0</td>\n",
              "      <td>0</td>\n",
              "      <td>0</td>\n",
              "      <td>0</td>\n",
              "      <td>0</td>\n",
              "      <td>0</td>\n",
              "      <td>0</td>\n",
              "      <td>0</td>\n",
              "      <td>0</td>\n",
              "      <td>0</td>\n",
              "      <td>0</td>\n",
              "      <td>0</td>\n",
              "      <td>0</td>\n",
              "      <td>0</td>\n",
              "      <td>0</td>\n",
              "      <td>0</td>\n",
              "      <td>0</td>\n",
              "      <td>0</td>\n",
              "      <td>0</td>\n",
              "      <td>0</td>\n",
              "      <td>0</td>\n",
              "      <td>0</td>\n",
              "      <td>0</td>\n",
              "      <td>0</td>\n",
              "      <td>0</td>\n",
              "      <td>0</td>\n",
              "      <td>0</td>\n",
              "      <td>0</td>\n",
              "      <td>0</td>\n",
              "      <td>0</td>\n",
              "      <td>0</td>\n",
              "      <td>0</td>\n",
              "      <td>0</td>\n",
              "      <td>0</td>\n",
              "      <td>0</td>\n",
              "      <td>1</td>\n",
              "      <td>0</td>\n",
              "      <td>0</td>\n",
              "      <td>0</td>\n",
              "      <td>0</td>\n",
              "      <td>0</td>\n",
              "      <td>0</td>\n",
              "      <td>0</td>\n",
              "      <td>0</td>\n",
              "      <td>0</td>\n",
              "      <td>0</td>\n",
              "      <td>0</td>\n",
              "      <td>0</td>\n",
              "      <td>0</td>\n",
              "      <td>0</td>\n",
              "      <td>0</td>\n",
              "    </tr>\n",
              "    <tr>\n",
              "      <th>4</th>\n",
              "      <td>0</td>\n",
              "      <td>0</td>\n",
              "      <td>0</td>\n",
              "      <td>0</td>\n",
              "      <td>0</td>\n",
              "      <td>0</td>\n",
              "      <td>0</td>\n",
              "      <td>0</td>\n",
              "      <td>0</td>\n",
              "      <td>0</td>\n",
              "      <td>0</td>\n",
              "      <td>0</td>\n",
              "      <td>0</td>\n",
              "      <td>0</td>\n",
              "      <td>0</td>\n",
              "      <td>0</td>\n",
              "      <td>0</td>\n",
              "      <td>0</td>\n",
              "      <td>0</td>\n",
              "      <td>0</td>\n",
              "      <td>0</td>\n",
              "      <td>0</td>\n",
              "      <td>0</td>\n",
              "      <td>0</td>\n",
              "      <td>0</td>\n",
              "      <td>0</td>\n",
              "      <td>0</td>\n",
              "      <td>0</td>\n",
              "      <td>0</td>\n",
              "      <td>0</td>\n",
              "      <td>0</td>\n",
              "      <td>0</td>\n",
              "      <td>0</td>\n",
              "      <td>0</td>\n",
              "      <td>0</td>\n",
              "      <td>0</td>\n",
              "      <td>1</td>\n",
              "      <td>0</td>\n",
              "      <td>0</td>\n",
              "      <td>0</td>\n",
              "      <td>0</td>\n",
              "      <td>0</td>\n",
              "      <td>0</td>\n",
              "      <td>0</td>\n",
              "      <td>0</td>\n",
              "      <td>0</td>\n",
              "      <td>0</td>\n",
              "      <td>0</td>\n",
              "      <td>0</td>\n",
              "      <td>0</td>\n",
              "      <td>0</td>\n",
              "    </tr>\n",
              "  </tbody>\n",
              "</table>\n",
              "</div>"
            ],
            "text/plain": [
              "   AK  AL  AR  AZ  CA  CO  CT  DC  DE  FL  GA  HI  IA  ID  IL  IN  KS  KY  LA  \\\n",
              "0   0   0   0   0   0   0   0   0   0   0   0   0   0   0   0   0   1   0   0   \n",
              "1   0   0   0   0   0   0   0   0   0   0   0   0   0   0   0   0   0   0   0   \n",
              "2   0   0   0   0   0   0   0   0   0   0   0   0   0   0   0   0   0   0   0   \n",
              "3   0   0   0   0   0   0   0   0   0   0   0   0   0   0   0   0   0   0   0   \n",
              "4   0   0   0   0   0   0   0   0   0   0   0   0   0   0   0   0   0   0   0   \n",
              "\n",
              "   MA  MD  ME  MI  MN  MO  MS  MT  NC  ND  NE  NH  NJ  NM  NV  NY  OH  OK  OR  \\\n",
              "0   0   0   0   0   0   0   0   0   0   0   0   0   0   0   0   0   0   0   0   \n",
              "1   0   0   0   0   0   0   0   0   0   0   0   0   0   0   0   0   1   0   0   \n",
              "2   0   0   0   0   0   0   0   0   0   0   0   0   1   0   0   0   0   0   0   \n",
              "3   0   0   0   0   0   0   0   0   0   0   0   0   0   0   0   0   1   0   0   \n",
              "4   0   0   0   0   0   0   0   0   0   0   0   0   0   0   0   0   0   1   0   \n",
              "\n",
              "   PA  RI  SC  SD  TN  TX  UT  VA  VT  WA  WI  WV  WY  \n",
              "0   0   0   0   0   0   0   0   0   0   0   0   0   0  \n",
              "1   0   0   0   0   0   0   0   0   0   0   0   0   0  \n",
              "2   0   0   0   0   0   0   0   0   0   0   0   0   0  \n",
              "3   0   0   0   0   0   0   0   0   0   0   0   0   0  \n",
              "4   0   0   0   0   0   0   0   0   0   0   0   0   0  "
            ]
          },
          "metadata": {},
          "execution_count": 123
        }
      ]
    },
    {
      "cell_type": "markdown",
      "metadata": {
        "id": "4FxLmiCuXwL4"
      },
      "source": [
        "**Comment:**\n",
        "Notice that this creates an entirely new DataFrame. Once we merge this back into the original (df) DataFrame,we can begin using these state features in models.Now, we have many more features in our dataset, so we should consider dropping any that are unnecessary."
      ]
    },
    {
      "cell_type": "markdown",
      "metadata": {
        "id": "y5OwNEZFH5EE"
      },
      "source": [
        "**Feature Scaling**"
      ]
    },
    {
      "cell_type": "code",
      "metadata": {
        "id": "wkgCNSReXyeV",
        "colab": {
          "base_uri": "https://localhost:8080/",
          "height": 299
        },
        "outputId": "dab5a70e-d2b1-4c5c-bb93-054562d96078"
      },
      "source": [
        "# check current scale of the features\n",
        "df_3 = df.loc[:,['Intl_Calls', 'Night_Mins']]\n",
        "display(df_3.describe())"
      ],
      "execution_count": 124,
      "outputs": [
        {
          "output_type": "display_data",
          "data": {
            "text/html": [
              "<div>\n",
              "<style scoped>\n",
              "    .dataframe tbody tr th:only-of-type {\n",
              "        vertical-align: middle;\n",
              "    }\n",
              "\n",
              "    .dataframe tbody tr th {\n",
              "        vertical-align: top;\n",
              "    }\n",
              "\n",
              "    .dataframe thead th {\n",
              "        text-align: right;\n",
              "    }\n",
              "</style>\n",
              "<table border=\"1\" class=\"dataframe\">\n",
              "  <thead>\n",
              "    <tr style=\"text-align: right;\">\n",
              "      <th></th>\n",
              "      <th>Intl_Calls</th>\n",
              "      <th>Night_Mins</th>\n",
              "    </tr>\n",
              "  </thead>\n",
              "  <tbody>\n",
              "    <tr>\n",
              "      <th>count</th>\n",
              "      <td>3333.000000</td>\n",
              "      <td>3333.000000</td>\n",
              "    </tr>\n",
              "    <tr>\n",
              "      <th>mean</th>\n",
              "      <td>4.479448</td>\n",
              "      <td>200.872037</td>\n",
              "    </tr>\n",
              "    <tr>\n",
              "      <th>std</th>\n",
              "      <td>2.461214</td>\n",
              "      <td>50.573847</td>\n",
              "    </tr>\n",
              "    <tr>\n",
              "      <th>min</th>\n",
              "      <td>0.000000</td>\n",
              "      <td>23.200000</td>\n",
              "    </tr>\n",
              "    <tr>\n",
              "      <th>25%</th>\n",
              "      <td>3.000000</td>\n",
              "      <td>167.000000</td>\n",
              "    </tr>\n",
              "    <tr>\n",
              "      <th>50%</th>\n",
              "      <td>4.000000</td>\n",
              "      <td>201.200000</td>\n",
              "    </tr>\n",
              "    <tr>\n",
              "      <th>75%</th>\n",
              "      <td>6.000000</td>\n",
              "      <td>235.300000</td>\n",
              "    </tr>\n",
              "    <tr>\n",
              "      <th>max</th>\n",
              "      <td>20.000000</td>\n",
              "      <td>395.000000</td>\n",
              "    </tr>\n",
              "  </tbody>\n",
              "</table>\n",
              "</div>"
            ],
            "text/plain": [
              "        Intl_Calls   Night_Mins\n",
              "count  3333.000000  3333.000000\n",
              "mean      4.479448   200.872037\n",
              "std       2.461214    50.573847\n",
              "min       0.000000    23.200000\n",
              "25%       3.000000   167.000000\n",
              "50%       4.000000   201.200000\n",
              "75%       6.000000   235.300000\n",
              "max      20.000000   395.000000"
            ]
          },
          "metadata": {}
        }
      ]
    },
    {
      "cell_type": "markdown",
      "metadata": {
        "id": "Wdxg726DQKmv"
      },
      "source": [
        "**Comment:** The international calls feature ranges from 0 to 20, while the night minutes feature ranges from 23 to 395. That's why it is needed to rescale data and ensure all features are on the same scale"
      ]
    },
    {
      "cell_type": "markdown",
      "metadata": {
        "id": "HqBsFJKn-wc3"
      },
      "source": [
        "**Data Transformation using StandardScaler**"
      ]
    },
    {
      "cell_type": "code",
      "metadata": {
        "colab": {
          "base_uri": "https://localhost:8080/",
          "height": 299
        },
        "id": "R4HSZ5jwQwcc",
        "outputId": "056d366a-4a81-4057-e392-695806dd1ff1"
      },
      "source": [
        "# Features scaling by standardization process\n",
        "# Import StandardScaler\n",
        "from sklearn.preprocessing import StandardScaler\n",
        "\n",
        "# Scale df_3 using StandardScaler\n",
        "df_3_scaled = StandardScaler().fit_transform(df_3)  \n",
        "\n",
        "# Add column names back for readability\n",
        "df_3_scaled = pd.DataFrame(df_3_scaled, columns=[\"Intl_Calls\", \"Night_Mins\"])\n",
        "# Print summary statistics using .describe()\n",
        "display(df_3_scaled.describe())"
      ],
      "execution_count": 125,
      "outputs": [
        {
          "output_type": "display_data",
          "data": {
            "text/html": [
              "<div>\n",
              "<style scoped>\n",
              "    .dataframe tbody tr th:only-of-type {\n",
              "        vertical-align: middle;\n",
              "    }\n",
              "\n",
              "    .dataframe tbody tr th {\n",
              "        vertical-align: top;\n",
              "    }\n",
              "\n",
              "    .dataframe thead th {\n",
              "        text-align: right;\n",
              "    }\n",
              "</style>\n",
              "<table border=\"1\" class=\"dataframe\">\n",
              "  <thead>\n",
              "    <tr style=\"text-align: right;\">\n",
              "      <th></th>\n",
              "      <th>Intl_Calls</th>\n",
              "      <th>Night_Mins</th>\n",
              "    </tr>\n",
              "  </thead>\n",
              "  <tbody>\n",
              "    <tr>\n",
              "      <th>count</th>\n",
              "      <td>3.333000e+03</td>\n",
              "      <td>3.333000e+03</td>\n",
              "    </tr>\n",
              "    <tr>\n",
              "      <th>mean</th>\n",
              "      <td>-1.264615e-16</td>\n",
              "      <td>6.602046e-17</td>\n",
              "    </tr>\n",
              "    <tr>\n",
              "      <th>std</th>\n",
              "      <td>1.000150e+00</td>\n",
              "      <td>1.000150e+00</td>\n",
              "    </tr>\n",
              "    <tr>\n",
              "      <th>min</th>\n",
              "      <td>-1.820289e+00</td>\n",
              "      <td>-3.513648e+00</td>\n",
              "    </tr>\n",
              "    <tr>\n",
              "      <th>25%</th>\n",
              "      <td>-6.011951e-01</td>\n",
              "      <td>-6.698545e-01</td>\n",
              "    </tr>\n",
              "    <tr>\n",
              "      <th>50%</th>\n",
              "      <td>-1.948306e-01</td>\n",
              "      <td>6.485803e-03</td>\n",
              "    </tr>\n",
              "    <tr>\n",
              "      <th>75%</th>\n",
              "      <td>6.178983e-01</td>\n",
              "      <td>6.808485e-01</td>\n",
              "    </tr>\n",
              "    <tr>\n",
              "      <th>max</th>\n",
              "      <td>6.307001e+00</td>\n",
              "      <td>3.839081e+00</td>\n",
              "    </tr>\n",
              "  </tbody>\n",
              "</table>\n",
              "</div>"
            ],
            "text/plain": [
              "         Intl_Calls    Night_Mins\n",
              "count  3.333000e+03  3.333000e+03\n",
              "mean  -1.264615e-16  6.602046e-17\n",
              "std    1.000150e+00  1.000150e+00\n",
              "min   -1.820289e+00 -3.513648e+00\n",
              "25%   -6.011951e-01 -6.698545e-01\n",
              "50%   -1.948306e-01  6.485803e-03\n",
              "75%    6.178983e-01  6.808485e-01\n",
              "max    6.307001e+00  3.839081e+00"
            ]
          },
          "metadata": {}
        }
      ]
    },
    {
      "cell_type": "markdown",
      "metadata": {
        "id": "m2aO0HzQTr30"
      },
      "source": [
        "**Comment:** Both feature are same scale now.\n",
        "**Decision trees** and ensemble methods do not require feature scaling to be performed as they are not sensitive to the the variance in the data. Here we will not data scaling.It is generally useful, when you are solving a system of equations, least squares, etc, where you can have serious issues due to rounding errors"
      ]
    },
    {
      "cell_type": "markdown",
      "metadata": {
        "id": "xM6sBe9xefbL"
      },
      "source": [
        "**Feature Engineering**\n",
        "Here create a new feature that contains information about the average length of night calls made by customers."
      ]
    },
    {
      "cell_type": "code",
      "metadata": {
        "colab": {
          "base_uri": "https://localhost:8080/"
        },
        "id": "CK_TqBl8auVp",
        "outputId": "dddfb7ba-fde0-4a51-c75a-3baeff7b78b0"
      },
      "source": [
        "# Create the new feature\n",
        "df['Avg_Night_Calls'] = df['Night_Mins'] / df['Night_Calls']\n",
        "\n",
        "# # Print the first five rows of 'Avg_Night_Calls'\n",
        "print(df['Avg_Night_Calls'].head())"
      ],
      "execution_count": 126,
      "outputs": [
        {
          "output_type": "stream",
          "name": "stdout",
          "text": [
            "0    2.689011\n",
            "1    2.469903\n",
            "2    1.563462\n",
            "3    2.212360\n",
            "4    1.544628\n",
            "Name: Avg_Night_Calls, dtype: float64\n"
          ]
        }
      ]
    },
    {
      "cell_type": "markdown",
      "metadata": {
        "id": "Ion0g7WNbDbY"
      },
      "source": [
        "**Feature selection:**\n",
        "1. use.drop() method for drop unnecessary features\n",
        "2. use .corr() method and heat map for feature selection\n",
        "\n",
        "Some features such as 'Area_Code' and 'Phone' are unique identifiers and they are not useful when it comes to predicting customer churn, and they need to be dropped prior to modeling."
      ]
    },
    {
      "cell_type": "code",
      "metadata": {
        "colab": {
          "base_uri": "https://localhost:8080/"
        },
        "id": "aGgFRsPquEOI",
        "outputId": "8969079e-13bb-4896-c3fc-5121b46da096"
      },
      "source": [
        "# before drop features, check the columns\n",
        "print(df.columns)\n",
        "print(df.shape)"
      ],
      "execution_count": 127,
      "outputs": [
        {
          "output_type": "stream",
          "name": "stdout",
          "text": [
            "Index(['Account_Length', 'Vmail_Message', 'Day_Mins', 'Eve_Mins', 'Night_Mins',\n",
            "       'Intl_Mins', 'CustServ_Calls', 'Churn', 'Intl_Plan', 'Vmail_Plan',\n",
            "       'Day_Calls', 'Day_Charge', 'Eve_Calls', 'Eve_Charge', 'Night_Calls',\n",
            "       'Night_Charge', 'Intl_Calls', 'Intl_Charge', 'State', 'Area_Code',\n",
            "       'Phone', 'Avg_Night_Calls'],\n",
            "      dtype='object')\n",
            "(3333, 22)\n"
          ]
        }
      ]
    },
    {
      "cell_type": "code",
      "metadata": {
        "colab": {
          "base_uri": "https://localhost:8080/"
        },
        "id": "1yVVf35TZgJz",
        "outputId": "be436700-b5f5-47af-d172-569edc97b616"
      },
      "source": [
        "# here drop this features 'State', 'Area_Code', \"Phone\", \"Avg_Night_Calls\" \n",
        "# axis=1 indicates drop these features from the columns.\n",
        "df.drop(['State','Area_Code','Phone','Avg_Night_Calls'],axis = 1, inplace = True) \n",
        "# Verify dropped features\n",
        "print(df.columns)\n",
        "print(df.shape)"
      ],
      "execution_count": 128,
      "outputs": [
        {
          "output_type": "stream",
          "name": "stdout",
          "text": [
            "Index(['Account_Length', 'Vmail_Message', 'Day_Mins', 'Eve_Mins', 'Night_Mins',\n",
            "       'Intl_Mins', 'CustServ_Calls', 'Churn', 'Intl_Plan', 'Vmail_Plan',\n",
            "       'Day_Calls', 'Day_Charge', 'Eve_Calls', 'Eve_Charge', 'Night_Calls',\n",
            "       'Night_Charge', 'Intl_Calls', 'Intl_Charge'],\n",
            "      dtype='object')\n",
            "(3333, 18)\n"
          ]
        }
      ]
    },
    {
      "cell_type": "markdown",
      "metadata": {
        "id": "ndwbXezptcbn"
      },
      "source": [
        "### **Machine Learning Model**"
      ]
    },
    {
      "cell_type": "markdown",
      "metadata": {
        "id": "fORaOXLKp4Ev"
      },
      "source": [
        "**Separating the features and target variable and create train test dataset**"
      ]
    },
    {
      "cell_type": "code",
      "metadata": {
        "colab": {
          "base_uri": "https://localhost:8080/",
          "height": 54
        },
        "id": "Ps2VCkpgp53f",
        "outputId": "c0a6b8d3-36f8-4786-cc04-a76fb0b267bb"
      },
      "source": [
        "from sklearn.model_selection import train_test_split\n",
        "\n",
        "features = df.drop('Churn', axis=1)\n",
        "display(features.shape)\n",
        "X_train, X_test, y_train, y_test = train_test_split(features, df['Churn'], test_size=0.2, random_state=42)\n",
        "X_train.shape, y_train.shape, X_test.shape, y_test.shape"
      ],
      "execution_count": 129,
      "outputs": [
        {
          "output_type": "display_data",
          "data": {
            "text/plain": [
              "(3333, 17)"
            ]
          },
          "metadata": {}
        },
        {
          "output_type": "execute_result",
          "data": {
            "text/plain": [
              "((2666, 17), (2666,), (667, 17), (667,))"
            ]
          },
          "metadata": {},
          "execution_count": 129
        }
      ]
    },
    {
      "cell_type": "markdown",
      "metadata": {
        "id": "fBvXKDbMwnSd"
      },
      "source": [
        "**Comment:** Data is seperated in by train test split, here 80% data is training data that will be used train the ML model and 20% data will be used to test the model.\n",
        "\n",
        "**Random state:**  This argument allows to spedify a seed. Setting a seed ensure that results are reproducible, as all splits will be same seed and will be identical"
      ]
    },
    {
      "cell_type": "markdown",
      "metadata": {
        "id": "bRh7LvXygUzq"
      },
      "source": [
        "**Model_selection**\n",
        "\n",
        "**Decision tree classifier (Use Grid Search and cross-validation)**\n",
        "In machine learning, a **hyperparameter** is a parameter whose value is used to control the learning process. Each machie learning algortihm has its own specific hyperparameters. Normally, ML model used defalut hyperparameter which do not need to tune them. ButThe default hyperparameters used by models are not optimized for data. \n",
        "The goal of grid search cross-validation is to identify those hyperparameters that lead to optimal model performance.  **Grid Search** is one of the most effective ways to tune hypereparameter. Scikit-learn implementation of grid search uses a technique called cross validation (CV) to ensure the models are being tested an unseen data."
      ]
    },
    {
      "cell_type": "code",
      "metadata": {
        "id": "HuuSnugookLp"
      },
      "source": [
        "# Import DecisionTreeClassifier\n",
        "from sklearn.tree import DecisionTreeClassifier\n",
        "# Import Gridsearch \n",
        "from sklearn.model_selection import GridSearchCV\n",
        "# Instantiate the classifier\n",
        "model_DT= DecisionTreeClassifier(random_state=42)"
      ],
      "execution_count": 130,
      "outputs": []
    },
    {
      "cell_type": "code",
      "metadata": {
        "id": "EAxnu-1Xx41Z"
      },
      "source": [
        "# parameter select for tuning\n",
        "parameters = {'criterion': ['gini','entropy'],\n",
        "              'max_depth': [3, 4, 5, 6, 7]}\n",
        "\n",
        "grid_search = GridSearchCV(estimator=model_DT,\n",
        "                           param_grid=parameters,\n",
        "                           scoring=\"accuracy\",\n",
        "                           cv=5,\n",
        "                           n_jobs=-1)\n",
        "\n",
        "# fit the model with the best hyper-parameters\n",
        "grid_result = grid_search.fit(X_train, y_train)"
      ],
      "execution_count": 131,
      "outputs": []
    },
    {
      "cell_type": "code",
      "metadata": {
        "id": "CDAZ2zUj3rhx"
      },
      "source": [
        "y_pred = np.round(grid_result.predict(X_test), 2)"
      ],
      "execution_count": 132,
      "outputs": []
    },
    {
      "cell_type": "code",
      "metadata": {
        "colab": {
          "base_uri": "https://localhost:8080/"
        },
        "id": "3Up6JsuJ3wX4",
        "outputId": "3bdfc136-0677-4c79-f96d-8bd6c134d822"
      },
      "source": [
        "#Best hyperparameters in the grid search\n",
        "grid_result.best_params_"
      ],
      "execution_count": 133,
      "outputs": [
        {
          "output_type": "execute_result",
          "data": {
            "text/plain": [
              "{'criterion': 'gini', 'max_depth': 6}"
            ]
          },
          "metadata": {},
          "execution_count": 133
        }
      ]
    },
    {
      "cell_type": "markdown",
      "metadata": {
        "id": "Q-TMIHxXYLcE"
      },
      "source": [
        "**Comment:** model shows the highest perfomance when it is used **gini** criterion with max_depth 6 under 5 cross validation"
      ]
    },
    {
      "cell_type": "code",
      "metadata": {
        "colab": {
          "base_uri": "https://localhost:8080/"
        },
        "id": "W1MmM2IKgit3",
        "outputId": "0d9e8736-e45f-4466-e15e-85ccb2987bf5"
      },
      "source": [
        "grid_result.best_estimator_"
      ],
      "execution_count": 134,
      "outputs": [
        {
          "output_type": "execute_result",
          "data": {
            "text/plain": [
              "DecisionTreeClassifier(ccp_alpha=0.0, class_weight=None, criterion='gini',\n",
              "                       max_depth=6, max_features=None, max_leaf_nodes=None,\n",
              "                       min_impurity_decrease=0.0, min_impurity_split=None,\n",
              "                       min_samples_leaf=1, min_samples_split=2,\n",
              "                       min_weight_fraction_leaf=0.0, presort='deprecated',\n",
              "                       random_state=42, splitter='best')"
            ]
          },
          "metadata": {},
          "execution_count": 134
        }
      ]
    },
    {
      "cell_type": "code",
      "metadata": {
        "colab": {
          "base_uri": "https://localhost:8080/",
          "height": 473
        },
        "id": "mLmhDZFj38GH",
        "outputId": "8e9db672-6850-49fa-e082-b81882357990"
      },
      "source": [
        "cv_result = pd.DataFrame(grid_result.cv_results_)\n",
        "cv_result = cv_result[['param_criterion', 'param_max_depth',\n",
        "                       'split0_test_score',\n",
        "                       'split1_test_score', 'split2_test_score', 'split3_test_score',\n",
        "                       'split4_test_score', 'mean_test_score', 'std_test_score',\n",
        "                       'rank_test_score']]\n",
        "cv_result = cv_result.sort_values(by='rank_test_score')\n",
        "display(cv_result)\n",
        "print(cv_result.columns)"
      ],
      "execution_count": 135,
      "outputs": [
        {
          "output_type": "display_data",
          "data": {
            "text/html": [
              "<div>\n",
              "<style scoped>\n",
              "    .dataframe tbody tr th:only-of-type {\n",
              "        vertical-align: middle;\n",
              "    }\n",
              "\n",
              "    .dataframe tbody tr th {\n",
              "        vertical-align: top;\n",
              "    }\n",
              "\n",
              "    .dataframe thead th {\n",
              "        text-align: right;\n",
              "    }\n",
              "</style>\n",
              "<table border=\"1\" class=\"dataframe\">\n",
              "  <thead>\n",
              "    <tr style=\"text-align: right;\">\n",
              "      <th></th>\n",
              "      <th>param_criterion</th>\n",
              "      <th>param_max_depth</th>\n",
              "      <th>split0_test_score</th>\n",
              "      <th>split1_test_score</th>\n",
              "      <th>split2_test_score</th>\n",
              "      <th>split3_test_score</th>\n",
              "      <th>split4_test_score</th>\n",
              "      <th>mean_test_score</th>\n",
              "      <th>std_test_score</th>\n",
              "      <th>rank_test_score</th>\n",
              "    </tr>\n",
              "  </thead>\n",
              "  <tbody>\n",
              "    <tr>\n",
              "      <th>3</th>\n",
              "      <td>gini</td>\n",
              "      <td>6</td>\n",
              "      <td>0.941948</td>\n",
              "      <td>0.936210</td>\n",
              "      <td>0.934334</td>\n",
              "      <td>0.938086</td>\n",
              "      <td>0.953096</td>\n",
              "      <td>0.940735</td>\n",
              "      <td>0.006674</td>\n",
              "      <td>1</td>\n",
              "    </tr>\n",
              "    <tr>\n",
              "      <th>4</th>\n",
              "      <td>gini</td>\n",
              "      <td>7</td>\n",
              "      <td>0.938202</td>\n",
              "      <td>0.932458</td>\n",
              "      <td>0.938086</td>\n",
              "      <td>0.938086</td>\n",
              "      <td>0.947467</td>\n",
              "      <td>0.938860</td>\n",
              "      <td>0.004831</td>\n",
              "      <td>2</td>\n",
              "    </tr>\n",
              "    <tr>\n",
              "      <th>8</th>\n",
              "      <td>entropy</td>\n",
              "      <td>6</td>\n",
              "      <td>0.934457</td>\n",
              "      <td>0.934334</td>\n",
              "      <td>0.936210</td>\n",
              "      <td>0.936210</td>\n",
              "      <td>0.951220</td>\n",
              "      <td>0.938486</td>\n",
              "      <td>0.006418</td>\n",
              "      <td>3</td>\n",
              "    </tr>\n",
              "    <tr>\n",
              "      <th>2</th>\n",
              "      <td>gini</td>\n",
              "      <td>5</td>\n",
              "      <td>0.932584</td>\n",
              "      <td>0.938086</td>\n",
              "      <td>0.932458</td>\n",
              "      <td>0.936210</td>\n",
              "      <td>0.951220</td>\n",
              "      <td>0.938112</td>\n",
              "      <td>0.006899</td>\n",
              "      <td>4</td>\n",
              "    </tr>\n",
              "    <tr>\n",
              "      <th>9</th>\n",
              "      <td>entropy</td>\n",
              "      <td>7</td>\n",
              "      <td>0.940075</td>\n",
              "      <td>0.930582</td>\n",
              "      <td>0.932458</td>\n",
              "      <td>0.936210</td>\n",
              "      <td>0.951220</td>\n",
              "      <td>0.938109</td>\n",
              "      <td>0.007321</td>\n",
              "      <td>5</td>\n",
              "    </tr>\n",
              "    <tr>\n",
              "      <th>7</th>\n",
              "      <td>entropy</td>\n",
              "      <td>5</td>\n",
              "      <td>0.930712</td>\n",
              "      <td>0.921201</td>\n",
              "      <td>0.924953</td>\n",
              "      <td>0.938086</td>\n",
              "      <td>0.949343</td>\n",
              "      <td>0.932859</td>\n",
              "      <td>0.010021</td>\n",
              "      <td>6</td>\n",
              "    </tr>\n",
              "    <tr>\n",
              "      <th>1</th>\n",
              "      <td>gini</td>\n",
              "      <td>4</td>\n",
              "      <td>0.910112</td>\n",
              "      <td>0.915572</td>\n",
              "      <td>0.915572</td>\n",
              "      <td>0.913696</td>\n",
              "      <td>0.924953</td>\n",
              "      <td>0.915981</td>\n",
              "      <td>0.004909</td>\n",
              "      <td>7</td>\n",
              "    </tr>\n",
              "    <tr>\n",
              "      <th>6</th>\n",
              "      <td>entropy</td>\n",
              "      <td>4</td>\n",
              "      <td>0.906367</td>\n",
              "      <td>0.917448</td>\n",
              "      <td>0.917448</td>\n",
              "      <td>0.909944</td>\n",
              "      <td>0.924953</td>\n",
              "      <td>0.915232</td>\n",
              "      <td>0.006494</td>\n",
              "      <td>8</td>\n",
              "    </tr>\n",
              "    <tr>\n",
              "      <th>0</th>\n",
              "      <td>gini</td>\n",
              "      <td>3</td>\n",
              "      <td>0.889513</td>\n",
              "      <td>0.898687</td>\n",
              "      <td>0.887430</td>\n",
              "      <td>0.908068</td>\n",
              "      <td>0.908068</td>\n",
              "      <td>0.898353</td>\n",
              "      <td>0.008790</td>\n",
              "      <td>9</td>\n",
              "    </tr>\n",
              "    <tr>\n",
              "      <th>5</th>\n",
              "      <td>entropy</td>\n",
              "      <td>3</td>\n",
              "      <td>0.885768</td>\n",
              "      <td>0.879925</td>\n",
              "      <td>0.887430</td>\n",
              "      <td>0.898687</td>\n",
              "      <td>0.906191</td>\n",
              "      <td>0.891600</td>\n",
              "      <td>0.009496</td>\n",
              "      <td>10</td>\n",
              "    </tr>\n",
              "  </tbody>\n",
              "</table>\n",
              "</div>"
            ],
            "text/plain": [
              "  param_criterion param_max_depth  split0_test_score  split1_test_score  \\\n",
              "3            gini               6           0.941948           0.936210   \n",
              "4            gini               7           0.938202           0.932458   \n",
              "8         entropy               6           0.934457           0.934334   \n",
              "2            gini               5           0.932584           0.938086   \n",
              "9         entropy               7           0.940075           0.930582   \n",
              "7         entropy               5           0.930712           0.921201   \n",
              "1            gini               4           0.910112           0.915572   \n",
              "6         entropy               4           0.906367           0.917448   \n",
              "0            gini               3           0.889513           0.898687   \n",
              "5         entropy               3           0.885768           0.879925   \n",
              "\n",
              "   split2_test_score  split3_test_score  split4_test_score  mean_test_score  \\\n",
              "3           0.934334           0.938086           0.953096         0.940735   \n",
              "4           0.938086           0.938086           0.947467         0.938860   \n",
              "8           0.936210           0.936210           0.951220         0.938486   \n",
              "2           0.932458           0.936210           0.951220         0.938112   \n",
              "9           0.932458           0.936210           0.951220         0.938109   \n",
              "7           0.924953           0.938086           0.949343         0.932859   \n",
              "1           0.915572           0.913696           0.924953         0.915981   \n",
              "6           0.917448           0.909944           0.924953         0.915232   \n",
              "0           0.887430           0.908068           0.908068         0.898353   \n",
              "5           0.887430           0.898687           0.906191         0.891600   \n",
              "\n",
              "   std_test_score  rank_test_score  \n",
              "3        0.006674                1  \n",
              "4        0.004831                2  \n",
              "8        0.006418                3  \n",
              "2        0.006899                4  \n",
              "9        0.007321                5  \n",
              "7        0.010021                6  \n",
              "1        0.004909                7  \n",
              "6        0.006494                8  \n",
              "0        0.008790                9  \n",
              "5        0.009496               10  "
            ]
          },
          "metadata": {}
        },
        {
          "output_type": "stream",
          "name": "stdout",
          "text": [
            "Index(['param_criterion', 'param_max_depth', 'split0_test_score',\n",
            "       'split1_test_score', 'split2_test_score', 'split3_test_score',\n",
            "       'split4_test_score', 'mean_test_score', 'std_test_score',\n",
            "       'rank_test_score'],\n",
            "      dtype='object')\n"
          ]
        }
      ]
    },
    {
      "cell_type": "markdown",
      "metadata": {
        "id": "nCvGoZvJYtiE"
      },
      "source": [
        "**Comment:** For best criterion params gini, mean_test_score is 0.940735 and standard deviation is 0.006674 "
      ]
    },
    {
      "cell_type": "markdown",
      "metadata": {
        "id": "qtztd0386Bx5"
      },
      "source": [
        "**Tree Diagram**"
      ]
    },
    {
      "cell_type": "code",
      "metadata": {
        "colab": {
          "base_uri": "https://localhost:8080/",
          "height": 846
        },
        "id": "lSnxHmQA6A2R",
        "outputId": "66b3296c-7020-4dad-f189-14dab66da81a"
      },
      "source": [
        "# plot a decision tree from gridsearchCV, here used gri\n",
        "plt.figure(figsize = (15, 15))\n",
        "plot_tree(grid_result.best_estimator_, \n",
        "          filled=True,\n",
        "          rounded=True, \n",
        "          class_names = [\"No Churn\", \"Will Churn\"],\n",
        "          feature_names = features.columns,\n",
        "          max_depth=2, fontsize=15)\n",
        "\n",
        "plt.show()"
      ],
      "execution_count": 136,
      "outputs": [
        {
          "output_type": "display_data",
          "data": {
            "image/png": "[encoded data removed]",
            "text/plain": [
              "<Figure size 1080x1080 with 1 Axes>"
            ]
          },
          "metadata": {
            "needs_background": "light"
          }
        }
      ]
    },
    {
      "cell_type": "markdown",
      "metadata": {
        "id": "Y_OxnPhs4oG8"
      },
      "source": [
        "**Model performance evaluation with the best found model in grid search and cross-validation**"
      ]
    },
    {
      "cell_type": "markdown",
      "metadata": {
        "id": "hWi2GBk797jX"
      },
      "source": [
        "**Confusion Matrix**"
      ]
    },
    {
      "cell_type": "code",
      "metadata": {
        "colab": {
          "base_uri": "https://localhost:8080/",
          "height": 279
        },
        "id": "YBRXwJsZ4nx6",
        "outputId": "13cf3312-08e7-45d6-9843-621fbe44b36d"
      },
      "source": [
        "plot_confusion_matrix(grid_result, \n",
        "                      X_test, \n",
        "                      y_test, \n",
        "                      display_labels=[\"Will not Churn\", \"Will Churn\"],\n",
        "                      cmap='Greys',values_format='')\n",
        "plt.show()"
      ],
      "execution_count": 137,
      "outputs": [
        {
          "output_type": "display_data",
          "data": {
            "image/png": "[encoded data removed]",
            "text/plain": [
              "<Figure size 432x288 with 2 Axes>"
            ]
          },
          "metadata": {
            "needs_background": "light"
          }
        }
      ]
    },
    {
      "cell_type": "markdown",
      "metadata": {
        "id": "Drx99yaMZTQ8"
      },
      "source": [
        "**Comment:** In the confusion matrix, 559 + 7 = 566 customer that will not churn, 559 (98.76%) were correctly classified. 28 + 73 = 101 customer that will churn, 73 (72.28%) were correctly classified."
      ]
    },
    {
      "cell_type": "markdown",
      "metadata": {
        "id": "w45VrpxK-HYE"
      },
      "source": [
        "**Accuracy**"
      ]
    },
    {
      "cell_type": "code",
      "metadata": {
        "colab": {
          "base_uri": "https://localhost:8080/"
        },
        "id": "UIdrg1Cf-Kvw",
        "outputId": "14a5d214-be92-420c-a367-3d9101b40381"
      },
      "source": [
        "print('Accuracy: ', accuracy_score(y_test, y_pred))"
      ],
      "execution_count": 138,
      "outputs": [
        {
          "output_type": "stream",
          "name": "stdout",
          "text": [
            "Accuracy:  0.9475262368815592\n"
          ]
        }
      ]
    },
    {
      "cell_type": "markdown",
      "metadata": {
        "id": "Mfp8tBe_amde"
      },
      "source": [
        "**Comment:**  model accuracy is **94%** means that 6 of every 100 labels is incorrect, and 94 is correct for predicting **Customer Churn**."
      ]
    },
    {
      "cell_type": "markdown",
      "metadata": {
        "id": "9gCzg_3y-PC3"
      },
      "source": [
        "**Classification report**"
      ]
    },
    {
      "cell_type": "code",
      "metadata": {
        "colab": {
          "base_uri": "https://localhost:8080/"
        },
        "id": "UiEzxc7B5UvK",
        "outputId": "3f8366b1-c29f-4966-980f-30da40443dea"
      },
      "source": [
        "print(classification_report(y_test, y_pred))"
      ],
      "execution_count": 139,
      "outputs": [
        {
          "output_type": "stream",
          "name": "stdout",
          "text": [
            "              precision    recall  f1-score   support\n",
            "\n",
            "           0       0.95      0.99      0.97       566\n",
            "           1       0.91      0.72      0.81       101\n",
            "\n",
            "    accuracy                           0.95       667\n",
            "   macro avg       0.93      0.86      0.89       667\n",
            "weighted avg       0.95      0.95      0.94       667\n",
            "\n"
          ]
        }
      ]
    },
    {
      "cell_type": "markdown",
      "metadata": {
        "id": "D3zcEWTCbDSz"
      },
      "source": [
        "**Comment:**\n",
        "\n",
        "\n",
        "1. **Precision**= Out of all the examples that predicted as True(will churn), how many are really True (will churn)?\n",
        " here 91% means that model predicted as positive(**will Churn**) **(73 + 7 =80**), but really positive (**will Churn)** only 73 customer.\n",
        "2. **recall:** = Out of all the True examples, how many are predicted as True? Here 72% means that all True(**will churn**) are (28 +73 = 101), but model predicted as True (**will churn**) only 73\n",
        "3. **f1-score:** This is the harmonic mean of Precision and Recall and gives a better measure of the incorrectly classified cases than the Accuracy Metric.In most real-life classification problems, imbalanced class distribution exists and thus F1-score is a better metric to evaluate our model on. The higher the F1 score the better, with 0 being the worst possible and 1 being the best.\n",
        "Here model f1-score is **0.81** for prediction customer will churn."
      ]
    },
    {
      "cell_type": "markdown",
      "metadata": {
        "id": "VlQ6rwgH9R6n"
      },
      "source": [
        "**ROC: Receiver Operating Characterisitcs and AUC: Area Under the Curve**"
      ]
    },
    {
      "cell_type": "code",
      "metadata": {
        "colab": {
          "base_uri": "https://localhost:8080/",
          "height": 513
        },
        "id": "oNbOkHXH5dUJ",
        "outputId": "ddee775d-88e2-42db-c30f-fc217952d9e6"
      },
      "source": [
        "fpr, tpr, thr = roc_curve(y_test, grid_result.predict_proba(X_test)[:,1])\n",
        "auc = np.round(roc_auc_score(y_test, y_pred), 2)\n",
        "\n",
        "plt.figure(figsize=(10, 8))\n",
        "plt.plot(fpr, \n",
        "         tpr, \n",
        "         color='green', \n",
        "         lw=2, \n",
        "         label=\"Curve Area = \" +str(auc))\n",
        "\n",
        "plt.plot([0, 1], [0, 1], color='blue', lw=2, linestyle='--')\n",
        "plt.xlabel('False Positive Rate (FPR)')\n",
        "plt.ylabel('True Positive Rate (TPR)')\n",
        "plt.title('ROC curve')\n",
        "plt.legend(loc=\"lower right\")\n",
        "plt.show()"
      ],
      "execution_count": 140,
      "outputs": [
        {
          "output_type": "display_data",
          "data": {
            "image/png": "[encoded data removed]",
            "text/plain": [
              "<Figure size 720x576 with 1 Axes>"
            ]
          },
          "metadata": {
            "needs_background": "light"
          }
        }
      ]
    },
    {
      "cell_type": "markdown",
      "metadata": {
        "id": "wy0HzZOW_nex"
      },
      "source": [
        "**Comment:** Here model AUC value is 0.86 that means the classifier is able to detect more numbers of True positives and True negatives than False negatives and False positives."
      ]
    },
    {
      "cell_type": "markdown",
      "metadata": {
        "id": "MnDtumeNev_e"
      },
      "source": [
        "**References:**\n",
        "1. https://medium.com/analytics-vidhya/accuracy-vs-f1-score-6258237beca2 \n",
        "2. https://learn.datacamp.com/courses/marketing-analytics-predicting-customer-churn-in-python"
      ]
    }
  ]
}